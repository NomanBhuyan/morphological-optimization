{
 "cells": [
  {
   "cell_type": "code",
   "execution_count": 12,
   "id": "31258d62-e9a4-4ab6-8efb-305f01804de4",
   "metadata": {},
   "outputs": [],
   "source": [
    "import numpy as np\n",
    "from numba import njit, prange\n",
    "import matplotlib.pyplot as plt"
   ]
  },
  {
   "cell_type": "code",
   "execution_count": 13,
   "id": "c364fecc-cea2-457b-a173-4aaa09e8c96f",
   "metadata": {},
   "outputs": [],
   "source": [
    "@njit(parallel=True, fastmath=True)\n",
    "def morphological_erosion_numba(padded_image, kernel_size):\n",
    "    pad = kernel_size // 2\n",
    "    rows = padded_image.shape[0] - 2 * pad\n",
    "    cols = padded_image.shape[1] - 2 * pad\n",
    "    output = np.zeros((rows, cols), dtype=padded_image.dtype)\n",
    "\n",
    "    for i in prange(rows):\n",
    "        for j in range(cols):\n",
    "            min_val = 255  \n",
    "            for ki in range(kernel_size):\n",
    "                for kj in range(kernel_size):\n",
    "                    val = padded_image[i + ki, j + kj]\n",
    "                    if val < min_val:\n",
    "                        min_val = val\n",
    "            output[i, j] = min_val\n",
    "    return output"
   ]
  },
  {
   "cell_type": "code",
   "execution_count": 14,
   "id": "f9d6e9b6-a6b8-49d1-a058-ffd519e68548",
   "metadata": {},
   "outputs": [],
   "source": [
    "def morphological_erosion(image, kernel_size=3):\n",
    "    if kernel_size % 2 == 0:\n",
    "        raise ValueError(\"Kernel size must be an odd number.\")\n",
    "    pad = kernel_size // 2\n",
    "    padded_image = np.pad(image, pad, mode='constant', constant_values=0)\n",
    "    return morphological_erosion_numba(padded_image, kernel_size)"
   ]
  },
  {
   "cell_type": "code",
   "execution_count": 15,
   "id": "0c18932f-de8f-4582-81d7-91244a52937d",
   "metadata": {},
   "outputs": [
    {
     "name": "stdout",
     "output_type": "stream",
     "text": [
      "Original Image:\n",
      "[[ 10  20  30  40]\n",
      " [ 50  60  70  80]\n",
      " [ 90 100 110 120]\n",
      " [130 140 150 160]]\n",
      "\n",
      "Eroded Image:\n",
      "[[ 0  0  0  0]\n",
      " [ 0 10 20  0]\n",
      " [ 0 50 60  0]\n",
      " [ 0  0  0  0]]\n"
     ]
    },
    {
     "data": {
      "image/png": "[encoded data removed]",
      "text/plain": [
       "<Figure size 800x400 with 2 Axes>"
      ]
     },
     "metadata": {},
     "output_type": "display_data"
    }
   ],
   "source": [
    "def test_erosion():\n",
    "    img = np.array([\n",
    "        [10, 20, 30, 40],\n",
    "        [50, 60, 70, 80],\n",
    "        [90, 100, 110, 120],\n",
    "        [130, 140, 150, 160]\n",
    "    ], dtype=np.uint8)\n",
    "\n",
    "    print(\"Original Image:\")\n",
    "    print(img)\n",
    "\n",
    "    eroded = morphological_erosion(img, kernel_size=3)\n",
    "    print(\"\\nEroded Image:\")\n",
    "    print(eroded)\n",
    "\n",
    "    # Visualize\n",
    "    plt.figure(figsize=(8, 4))\n",
    "\n",
    "    plt.subplot(1, 2, 1)\n",
    "    plt.title(\"Original Image\")\n",
    "    plt.imshow(img, cmap='gray', vmin=0, vmax=255)\n",
    "    plt.axis('off')\n",
    "\n",
    "    plt.subplot(1, 2, 2)\n",
    "    plt.title(\"Eroded Image\")\n",
    "    plt.imshow(eroded, cmap='gray', vmin=0, vmax=255)\n",
    "    plt.axis('off')\n",
    "\n",
    "    plt.show()\n",
    "if __name__ == \"__main__\":\n",
    "    test_erosion()"
   ]
  },
  {
   "cell_type": "code",
   "execution_count": null,
   "id": "6354775c-9ffe-490a-99c8-7545a7c0d603",
   "metadata": {},
   "outputs": [],
   "source": []
  },
  {
   "cell_type": "code",
   "execution_count": null,
   "id": "9ba43f53-f49d-42f0-b7dc-bed9c1892e90",
   "metadata": {},
   "outputs": [],
   "source": []
  }
 ],
 "metadata": {
  "kernelspec": {
   "display_name": "Python 3 (ipykernel)",
   "language": "python",
   "name": "python3"
  },
  "language_info": {
   "codemirror_mode": {
    "name": "ipython",
    "version": 3
   },
   "file_extension": ".py",
   "mimetype": "text/x-python",
   "name": "python",
   "nbconvert_exporter": "python",
   "pygments_lexer": "ipython3",
   "version": "3.13.3"
  }
 },
 "nbformat": 4,
 "nbformat_minor": 5
}
